{
 "cells": [
  {
   "cell_type": "markdown",
   "id": "9b42cb79",
   "metadata": {},
   "source": [
    "1. Write a Python program to check if the given number is a Disarium Number?"
   ]
  },
  {
   "cell_type": "code",
   "execution_count": 6,
   "id": "d2e1c3ee",
   "metadata": {},
   "outputs": [
    {
     "name": "stdout",
     "output_type": "stream",
     "text": [
      "Enter value to check for Disarium number: 153\n",
      "Entered value is not a Disarium number\n",
      "Enter value to check for Disarium number: 135\n",
      "Entered value is Disarium number.\n"
     ]
    }
   ],
   "source": [
    "while True:\n",
    "    try:\n",
    "        number = input(\"Enter value to check for Disarium number: \")\n",
    "        if int(number) < 0:\n",
    "            raise ValueError(\"Please enter positive value\")\n",
    "        value = 0\n",
    "        for i,j in enumerate(number):\n",
    "            value = value + int(j)**(i+1)\n",
    "        if value == int(number):\n",
    "            print(\"Entered value is Disarium number.\")\n",
    "            break\n",
    "        else:\n",
    "            print(\"Entered value is not a Disarium number\")\n",
    "    except ValueError:\n",
    "        print(\"Entered value is invalid\")"
   ]
  },
  {
   "cell_type": "markdown",
   "id": "e7a4ba46",
   "metadata": {},
   "source": [
    "2. Write a Python program to print all disarium numbers between 1 to 100?"
   ]
  },
  {
   "cell_type": "code",
   "execution_count": 32,
   "id": "2077b7b6",
   "metadata": {},
   "outputs": [
    {
     "name": "stdout",
     "output_type": "stream",
     "text": [
      "1\n",
      "2\n",
      "3\n",
      "4\n",
      "5\n",
      "6\n",
      "7\n",
      "8\n",
      "9\n",
      "89\n"
     ]
    }
   ],
   "source": [
    "for i in range(1,100):\n",
    "    number = str(i)\n",
    "    value = 0\n",
    "    for j,k in enumerate(number):\n",
    "        value = value + int(k)**(j+1)\n",
    "    if value == int(number):\n",
    "        print(number)\n",
    "    else:\n",
    "        continue"
   ]
  },
  {
   "cell_type": "markdown",
   "id": "22dfd72c",
   "metadata": {},
   "source": [
    "3. Write a Python program to check if the given number is Happy Number?"
   ]
  },
  {
   "cell_type": "code",
   "execution_count": 79,
   "id": "d80b3f34",
   "metadata": {},
   "outputs": [
    {
     "name": "stdout",
     "output_type": "stream",
     "text": [
      "Enter value to check for Happy number:11\n",
      "Entered value is not a Happy number\n"
     ]
    }
   ],
   "source": [
    "number = input(\"Enter value to check for Happy number:\")\n",
    "\n",
    "while len(number) > 1:\n",
    "    value = 0\n",
    "    for i in number:\n",
    "        value += int(i)**2\n",
    "    number = str(value)\n",
    "    \n",
    "if value == 1:\n",
    "    print(\"Entered value is a Happy number\")\n",
    "else:\n",
    "    print(\"Entered value is not a Happy number\")\n",
    "\n"
   ]
  },
  {
   "cell_type": "markdown",
   "id": "ad10f285",
   "metadata": {},
   "source": [
    "4. Write a Python program to print all happy numbers between 1 and 100?"
   ]
  },
  {
   "cell_type": "code",
   "execution_count": 94,
   "id": "d8988618",
   "metadata": {},
   "outputs": [
    {
     "name": "stdout",
     "output_type": "stream",
     "text": [
      "The list of happy numbers between 1 and 100 are : \n",
      "1\n",
      "7\n",
      "10\n",
      "13\n",
      "19\n",
      "23\n",
      "28\n",
      "31\n",
      "32\n",
      "44\n",
      "49\n",
      "68\n",
      "70\n",
      "79\n",
      "82\n",
      "86\n",
      "91\n",
      "94\n",
      "97\n",
      "100\n"
     ]
    }
   ],
   "source": [
    "def check_happy_num(my_num):\n",
    "   remaining = sum_val = 0\n",
    "   while(my_num > 0):\n",
    "      remaining = my_num%10\n",
    "      sum_val = sum_val + (remaining*remaining)\n",
    "      my_num = my_num//10\n",
    "   return sum_val\n",
    "print(\"The list of happy numbers between 1 and 100 are : \")\n",
    "for i in range(1, 101):\n",
    "   my_result = i\n",
    "   while(my_result != 1 and my_result != 4):\n",
    "      my_result = check_happy_num(my_result)\n",
    "   if my_result == 1:\n",
    "      print(i)"
   ]
  },
  {
   "cell_type": "markdown",
   "id": "cc2a28fb",
   "metadata": {},
   "source": [
    "5. Write a Python program to determine whether the given number is a Harshad Number?"
   ]
  },
  {
   "cell_type": "code",
   "execution_count": 95,
   "id": "b8991f76",
   "metadata": {},
   "outputs": [
    {
     "name": "stdout",
     "output_type": "stream",
     "text": [
      "Enter value to check for Harshad number:12\n",
      "Entered number is a Harshad number\n"
     ]
    }
   ],
   "source": [
    "number = input(\"Enter value to check for Harshad number:\")\n",
    "value = 0\n",
    "for i in number:\n",
    "    value += int(i)\n",
    "if int(number)%value == 0:\n",
    "    print(\"Entered number is a Harshad number\")\n",
    "else:\n",
    "    print(\"Entered number is not a Harshad number\")"
   ]
  },
  {
   "cell_type": "markdown",
   "id": "1ad2e3a3",
   "metadata": {},
   "source": [
    "6. Write a Python program to print all pronic numbers between 1 and 100?"
   ]
  },
  {
   "cell_type": "code",
   "execution_count": 99,
   "id": "886ccfdc",
   "metadata": {},
   "outputs": [
    {
     "name": "stdout",
     "output_type": "stream",
     "text": [
      "All pronic number between 1-100:\n",
      "2\n",
      "6\n",
      "12\n",
      "20\n",
      "30\n",
      "42\n",
      "56\n",
      "72\n",
      "90\n"
     ]
    }
   ],
   "source": [
    "print(\"All pronic number between 1-100:\")\n",
    "for num in range(1,101):\n",
    "    for digit in range(1,num):\n",
    "        next_ = digit + 1\n",
    "        if digit*next_ == num:\n",
    "            print(num)\n",
    "        else:\n",
    "            pass\n",
    "        "
   ]
  },
  {
   "cell_type": "code",
   "execution_count": null,
   "id": "e9defe5c",
   "metadata": {},
   "outputs": [],
   "source": []
  }
 ],
 "metadata": {
  "kernelspec": {
   "display_name": "Python 3 (ipykernel)",
   "language": "python",
   "name": "python3"
  },
  "language_info": {
   "codemirror_mode": {
    "name": "ipython",
    "version": 3
   },
   "file_extension": ".py",
   "mimetype": "text/x-python",
   "name": "python",
   "nbconvert_exporter": "python",
   "pygments_lexer": "ipython3",
   "version": "3.9.12"
  }
 },
 "nbformat": 4,
 "nbformat_minor": 5
}
