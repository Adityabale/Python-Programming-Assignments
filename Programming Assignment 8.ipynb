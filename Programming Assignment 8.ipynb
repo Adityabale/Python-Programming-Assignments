{
 "cells": [
  {
   "cell_type": "markdown",
   "id": "20c7b317",
   "metadata": {},
   "source": [
    "1. Write a Python Program to Add Two Matrices?"
   ]
  },
  {
   "cell_type": "code",
   "execution_count": 241,
   "id": "ca789846",
   "metadata": {},
   "outputs": [
    {
     "name": "stdout",
     "output_type": "stream",
     "text": [
      "[[110 130 105  78]\n",
      " [102  79  58 103]\n",
      " [118  62 112 118]]\n"
     ]
    }
   ],
   "source": [
    "import numpy as np\n",
    "try:\n",
    "    mat_m = np.random.randint(2,50,(3,4))\n",
    "    mat_n = np.random.randint(50,99,(3,4))\n",
    "    result = np.add(mat_m,mat_n)\n",
    "    print(result)\n",
    "except ValueError:\n",
    "    print(f\"Shapes {mat_m.shape} and {mat_n.shape} do not match to perform addition operation\")"
   ]
  },
  {
   "cell_type": "markdown",
   "id": "814429cb",
   "metadata": {},
   "source": [
    "2. Write a Python Program to Multiply Two Matrices?"
   ]
  },
  {
   "cell_type": "code",
   "execution_count": 242,
   "id": "4d8d7580",
   "metadata": {},
   "outputs": [
    {
     "name": "stdout",
     "output_type": "stream",
     "text": [
      "[[2856 3825 2450  680]\n",
      " [2405 1140  165  846]\n",
      " [2392  336 2407 2256]]\n"
     ]
    }
   ],
   "source": [
    "result = np.multiply(mat_m,mat_n)\n",
    "print(result)"
   ]
  },
  {
   "cell_type": "markdown",
   "id": "d2a4ffb9",
   "metadata": {},
   "source": [
    "3. Write a Python Program to Transpose a Matrix?"
   ]
  },
  {
   "cell_type": "code",
   "execution_count": 243,
   "id": "e8287d64",
   "metadata": {},
   "outputs": [
    {
     "name": "stdout",
     "output_type": "stream",
     "text": [
      "[[42 37 26]\n",
      " [45 19  6]\n",
      " [35  3 29]\n",
      " [10  9 24]]\n"
     ]
    }
   ],
   "source": [
    "result = mat_m.T\n",
    "print(result)"
   ]
  },
  {
   "cell_type": "markdown",
   "id": "f1fc481a",
   "metadata": {},
   "source": [
    "4. Write a Python Program to Sort Words in Alphabetic Order?"
   ]
  },
  {
   "cell_type": "code",
   "execution_count": 244,
   "id": "1285790b",
   "metadata": {},
   "outputs": [
    {
     "name": "stdout",
     "output_type": "stream",
     "text": [
      "is of root square two what\n"
     ]
    }
   ],
   "source": [
    "text = \"what is square root of two\"\n",
    "words = list(text.split(' '))\n",
    "words.sort()\n",
    "print((' ').join(words))"
   ]
  },
  {
   "cell_type": "markdown",
   "id": "dad3ebcb",
   "metadata": {},
   "source": [
    "5. Write a Python Program to Remove Punctuation From a String?"
   ]
  },
  {
   "cell_type": "code",
   "execution_count": 245,
   "id": "5e8e2c3f",
   "metadata": {},
   "outputs": [
    {
     "name": "stdout",
     "output_type": "stream",
     "text": [
      "Are you fool  What are you doing \n"
     ]
    }
   ],
   "source": [
    "punctuations = (\"\"\"!|(|)|-|[|]|{|}|;|:|'|\"|\\|,|<|>|.|/|?|@|#|$|%|^|&|*|_|~\"\"\").split('|')\n",
    "a = \"Are you fool! What are you doing?\"\n",
    "l = []\n",
    "for i in a:\n",
    "    if i in punctuations:\n",
    "        l.append(\" \")\n",
    "    else:\n",
    "        l.append(i)\n",
    "        \n",
    "print((\"\").join(l))"
   ]
  }
 ],
 "metadata": {
  "kernelspec": {
   "display_name": "Python 3 (ipykernel)",
   "language": "python",
   "name": "python3"
  },
  "language_info": {
   "codemirror_mode": {
    "name": "ipython",
    "version": 3
   },
   "file_extension": ".py",
   "mimetype": "text/x-python",
   "name": "python",
   "nbconvert_exporter": "python",
   "pygments_lexer": "ipython3",
   "version": "3.9.12"
  }
 },
 "nbformat": 4,
 "nbformat_minor": 5
}
