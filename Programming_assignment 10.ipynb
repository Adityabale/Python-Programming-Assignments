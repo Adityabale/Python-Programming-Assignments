{
 "cells": [
  {
   "cell_type": "markdown",
   "id": "f9d66342",
   "metadata": {},
   "source": [
    "1. Write a Python program to find sum of elements in list?"
   ]
  },
  {
   "cell_type": "code",
   "execution_count": 3,
   "id": "b4d52ad7",
   "metadata": {},
   "outputs": [
    {
     "name": "stdout",
     "output_type": "stream",
     "text": [
      "28\n"
     ]
    }
   ],
   "source": [
    "l = [1,2,3,4,5,6,7]\n",
    "sum = 0\n",
    "for i in l:\n",
    "    sum += i\n",
    "print(sum)"
   ]
  },
  {
   "cell_type": "markdown",
   "id": "448ff2ee",
   "metadata": {},
   "source": [
    "2. Write a Python program to Multiply all numbers in the list?"
   ]
  },
  {
   "cell_type": "code",
   "execution_count": 7,
   "id": "9696f54d",
   "metadata": {},
   "outputs": [
    {
     "name": "stdout",
     "output_type": "stream",
     "text": [
      "5040\n"
     ]
    }
   ],
   "source": [
    "l = [1,2,3,4,5,6,7]\n",
    "product = 1\n",
    "for i in l:\n",
    "    product *= i\n",
    "print(product)"
   ]
  },
  {
   "cell_type": "markdown",
   "id": "5e102a7c",
   "metadata": {},
   "source": [
    "3. Write a Python program to find smallest number in a list?"
   ]
  },
  {
   "cell_type": "code",
   "execution_count": 18,
   "id": "53a0d83a",
   "metadata": {},
   "outputs": [
    {
     "name": "stdout",
     "output_type": "stream",
     "text": [
      "1\n"
     ]
    }
   ],
   "source": [
    "l = [5,3,7,9,2,1,4,5]\n",
    "sorted_list = sorted(l)\n",
    "print(sorted_list[0])"
   ]
  },
  {
   "cell_type": "markdown",
   "id": "a643ea2c",
   "metadata": {},
   "source": [
    "4. Write a Python program to find largest number in a list?"
   ]
  },
  {
   "cell_type": "code",
   "execution_count": 19,
   "id": "eafde4ae",
   "metadata": {},
   "outputs": [
    {
     "name": "stdout",
     "output_type": "stream",
     "text": [
      "9\n"
     ]
    }
   ],
   "source": [
    "l = [5,3,7,9,2,1,4,5]\n",
    "sorted_list = sorted(l)\n",
    "print(sorted_list[len(l)-1])"
   ]
  },
  {
   "cell_type": "markdown",
   "id": "479404ad",
   "metadata": {},
   "source": [
    "5. Write a Python program to find second largest number in a list?"
   ]
  },
  {
   "cell_type": "code",
   "execution_count": 20,
   "id": "e3a8358f",
   "metadata": {},
   "outputs": [
    {
     "name": "stdout",
     "output_type": "stream",
     "text": [
      "7\n"
     ]
    }
   ],
   "source": [
    "l = [5,3,7,9,2,1,4,5]\n",
    "sorted_list = sorted(l)\n",
    "print(sorted_list[len(l)-2])"
   ]
  },
  {
   "cell_type": "markdown",
   "id": "61a24d5a",
   "metadata": {},
   "source": [
    "6. Write a Python program to find N largest elements from a list?"
   ]
  },
  {
   "cell_type": "code",
   "execution_count": 22,
   "id": "4f2c31f8",
   "metadata": {},
   "outputs": [
    {
     "name": "stdout",
     "output_type": "stream",
     "text": [
      "[5, 5, 7, 9]\n"
     ]
    }
   ],
   "source": [
    "n = 4\n",
    "l = [5,3,7,9,2,1,4,5]\n",
    "sorted_list = sorted(l)\n",
    "print(sorted_list[len(l)-4:])"
   ]
  },
  {
   "cell_type": "markdown",
   "id": "6e13f4f7",
   "metadata": {},
   "source": [
    "7. Write a Python program to print even numbers in a list?"
   ]
  },
  {
   "cell_type": "code",
   "execution_count": 24,
   "id": "75f0ba45",
   "metadata": {},
   "outputs": [
    {
     "name": "stdout",
     "output_type": "stream",
     "text": [
      "[72, 96, 2, 44]\n"
     ]
    }
   ],
   "source": [
    "l = [51,3,72,96,2,11,44,5]\n",
    "l1 = []\n",
    "for i in l:\n",
    "    if i%2 == 0:\n",
    "        l1.append(i)\n",
    "    else:\n",
    "        pass\n",
    "print(l1)"
   ]
  },
  {
   "cell_type": "markdown",
   "id": "5811a82e",
   "metadata": {},
   "source": [
    "8. Write a Python program to print odd numbers in a List?"
   ]
  },
  {
   "cell_type": "code",
   "execution_count": 25,
   "id": "814962f3",
   "metadata": {},
   "outputs": [
    {
     "name": "stdout",
     "output_type": "stream",
     "text": [
      "[51, 3, 11, 5]\n"
     ]
    }
   ],
   "source": [
    "l = [51,3,72,96,2,11,44,5]\n",
    "l1 = []\n",
    "for i in l:\n",
    "    if i%2 == 1:\n",
    "        l1.append(i)\n",
    "    else:\n",
    "        pass\n",
    "print(l1)"
   ]
  },
  {
   "cell_type": "markdown",
   "id": "90145c09",
   "metadata": {},
   "source": [
    "9. Write a Python program to Remove empty List from List?"
   ]
  },
  {
   "cell_type": "code",
   "execution_count": 28,
   "id": "74bd3526",
   "metadata": {},
   "outputs": [
    {
     "name": "stdout",
     "output_type": "stream",
     "text": [
      "[12, 23, [1, 7, 8, 34], 67]\n"
     ]
    }
   ],
   "source": [
    "l = [12,23,[],[1,7,8,34],67]\n",
    "for i,j in enumerate(l):\n",
    "    if j == []:\n",
    "        del l[i]\n",
    "print(l)"
   ]
  },
  {
   "cell_type": "markdown",
   "id": "6602d751",
   "metadata": {},
   "source": [
    "10. Write a Python program to Cloning or Copying a list?"
   ]
  },
  {
   "cell_type": "code",
   "execution_count": 34,
   "id": "a8f6cd3b",
   "metadata": {},
   "outputs": [
    {
     "name": "stdout",
     "output_type": "stream",
     "text": [
      "[12, 23, [], [1, 7, 8, 34], 67]\n"
     ]
    }
   ],
   "source": [
    "l = [12,23,[],[1,7,8,34],67]\n",
    "l1 = l[:]\n",
    "print(l1)"
   ]
  },
  {
   "cell_type": "markdown",
   "id": "deba17c8",
   "metadata": {},
   "source": [
    "11. Write a Python program to Count occurrences of an element in a list?"
   ]
  },
  {
   "cell_type": "code",
   "execution_count": 41,
   "id": "dc109967",
   "metadata": {},
   "outputs": [
    {
     "name": "stdout",
     "output_type": "stream",
     "text": [
      "2\n"
     ]
    }
   ],
   "source": [
    "l = [5,3,7,9,2,1,4,5]\n",
    "count = l.count(5)\n",
    "print(count)"
   ]
  }
 ],
 "metadata": {
  "kernelspec": {
   "display_name": "Python 3 (ipykernel)",
   "language": "python",
   "name": "python3"
  },
  "language_info": {
   "codemirror_mode": {
    "name": "ipython",
    "version": 3
   },
   "file_extension": ".py",
   "mimetype": "text/x-python",
   "name": "python",
   "nbconvert_exporter": "python",
   "pygments_lexer": "ipython3",
   "version": "3.9.12"
  }
 },
 "nbformat": 4,
 "nbformat_minor": 5
}
